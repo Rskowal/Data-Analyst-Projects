{
  "metadata": {
    "kernelspec": {
      "name": "python",
      "display_name": "Python (Pyodide)",
      "language": "python"
    },
    "language_info": {
      "codemirror_mode": {
        "name": "python",
        "version": 3
      },
      "file_extension": ".py",
      "mimetype": "text/x-python",
      "name": "python",
      "nbconvert_exporter": "python",
      "pygments_lexer": "ipython3",
      "version": "3.8"
    },
    "prev_pub_hash": "75f9cbe799d7bcd81dfecdbcf1653c6ad01ca54b63272be450af5e5346a76987"
  },
  "nbformat_minor": 4,
  "nbformat": 4,
  "cells": [
    {
      "cell_type": "markdown",
      "source": "<p style=\"text-align:center\">\n    <a href=\"https://skills.network\" target=\"_blank\">\n    <img src=\"https://cf-courses-data.s3.us.cloud-object-storage.appdomain.cloud/assets/logos/SN_web_lightmode.png\" width=\"200\" alt=\"Skills Network Logo\"  />\n    </a>\n</p>\n",
      "metadata": {}
    },
    {
      "cell_type": "markdown",
      "source": "# **Lab: Exploring the Dataset**\n",
      "metadata": {}
    },
    {
      "cell_type": "markdown",
      "source": "Estimated time needed: **30** minutes\n",
      "metadata": {}
    },
    {
      "cell_type": "markdown",
      "source": "## Introduction\n",
      "metadata": {}
    },
    {
      "cell_type": "markdown",
      "source": "Data exploration is the initial phase of data analysis where we aim to understand the data's characteristics, identify patterns, and uncover potential insights. It is a crucial step that helps us make informed decisions about subsequent analysis.\n",
      "metadata": {}
    },
    {
      "cell_type": "markdown",
      "source": "## Objectives\n",
      "metadata": {}
    },
    {
      "cell_type": "markdown",
      "source": "After completing this lab, you will be able to:\n",
      "metadata": {}
    },
    {
      "cell_type": "markdown",
      "source": "-   Summarize the key characteristics of a dataset.\n-   Identify different data types commonly used in data analysis.\n",
      "metadata": {}
    },
    {
      "cell_type": "markdown",
      "source": "### Install the required library\n",
      "metadata": {}
    },
    {
      "cell_type": "code",
      "source": "import micropip\n\nawait micropip.install('pandas')\n\n# Import pandas after installation\nimport pandas as pd\nprint(pd.__version__)\n",
      "metadata": {
        "trusted": true
      },
      "outputs": [
        {
          "name": "stderr",
          "text": "<ipython-input-1-4a848102c67d>:6: DeprecationWarning: \nPyarrow will become a required dependency of pandas in the next major release of pandas (pandas 3.0),\n(to allow more performant data types, such as the Arrow string type, and better interoperability with other libraries)\nbut was not found to be installed on your system.\nIf this would cause problems for you,\nplease provide us feedback at https://github.com/pandas-dev/pandas/issues/54466\n        \n  import pandas as pd\n",
          "output_type": "stream"
        },
        {
          "name": "stdout",
          "text": "2.2.0\n",
          "output_type": "stream"
        }
      ],
      "execution_count": 1
    },
    {
      "cell_type": "markdown",
      "source": "## Load the dataset\n",
      "metadata": {}
    },
    {
      "cell_type": "markdown",
      "source": "<h3>Read Data</h3>\n<p>\nWe utilize the <code>pandas.read_csv()</code> function for reading CSV files. However, in this version of the lab, which operates on JupyterLite, the dataset needs to be downloaded to the interface using the provided code below.\n</p>\n",
      "metadata": {}
    },
    {
      "cell_type": "markdown",
      "source": "The functions below will download the dataset into your browser:\n",
      "metadata": {}
    },
    {
      "cell_type": "code",
      "source": "from pyodide.http import pyfetch\n\nasync def download(url, filename):\n    response = await pyfetch(url)\n    if response.status == 200:\n        with open(filename, \"wb\") as f:\n            f.write(await response.bytes())",
      "metadata": {
        "trusted": true
      },
      "outputs": [],
      "execution_count": 2
    },
    {
      "cell_type": "code",
      "source": "file_path = \"https://cf-courses-data.s3.us.cloud-object-storage.appdomain.cloud/n01PQ9pSmiRX6520flujwQ/survey-data.csv\"",
      "metadata": {
        "trusted": true
      },
      "outputs": [],
      "execution_count": 3
    },
    {
      "cell_type": "markdown",
      "source": "To obtain the dataset, utilize the download() function as defined above:  \n",
      "metadata": {}
    },
    {
      "cell_type": "code",
      "source": "await download(file_path, \"survey_data.csv\")\nfile_name=\"survey_data.csv\"",
      "metadata": {
        "trusted": true
      },
      "outputs": [],
      "execution_count": 4
    },
    {
      "cell_type": "markdown",
      "source": "Utilize the Pandas method read_csv() to load the data into a dataframe.\n",
      "metadata": {}
    },
    {
      "cell_type": "code",
      "source": "df = pd.read_csv(file_name)",
      "metadata": {
        "trusted": true
      },
      "outputs": [],
      "execution_count": 5
    },
    {
      "cell_type": "markdown",
      "source": "> Note: This version of the lab is working on JupyterLite, which requires the dataset to be downloaded to the interface.While working on the downloaded version of this notebook on their local machines(Jupyter Anaconda), the learners can simply **skip the steps above,** and simply use the URL directly in the `pandas.read_csv()` function. You can uncomment and run the statements in the cell below.\n",
      "metadata": {}
    },
    {
      "cell_type": "markdown",
      "source": "# Hands on Lab\n",
      "metadata": {}
    },
    {
      "cell_type": "markdown",
      "source": "## Explore the dataset\n",
      "metadata": {}
    },
    {
      "cell_type": "markdown",
      "source": "It is a good idea to print the top 5 rows of the dataset to get a feel of how the dataset will look.\n",
      "metadata": {}
    },
    {
      "cell_type": "markdown",
      "source": "Display the top 5 rows and columns from your dataset.\n",
      "metadata": {}
    },
    {
      "cell_type": "code",
      "source": "## Write your code here\ndf.head()",
      "metadata": {
        "trusted": true
      },
      "outputs": [
        {
          "execution_count": 8,
          "output_type": "execute_result",
          "data": {
            "text/plain": "   ResponseId                      MainBranch                 Age  \\\n0           1  I am a developer by profession  Under 18 years old   \n1           2  I am a developer by profession     35-44 years old   \n2           3  I am a developer by profession     45-54 years old   \n3           4           I am learning to code     18-24 years old   \n4           5  I am a developer by profession     18-24 years old   \n\n            Employment RemoteWork   Check  \\\n0  Employed, full-time     Remote  Apples   \n1  Employed, full-time     Remote  Apples   \n2  Employed, full-time     Remote  Apples   \n3   Student, full-time        NaN  Apples   \n4   Student, full-time        NaN  Apples   \n\n                                    CodingActivities  \\\n0                                              Hobby   \n1  Hobby;Contribute to open-source projects;Other...   \n2  Hobby;Contribute to open-source projects;Other...   \n3                                                NaN   \n4                                                NaN   \n\n                                             EdLevel  \\\n0                          Primary/elementary school   \n1       Bachelor’s degree (B.A., B.S., B.Eng., etc.)   \n2    Master’s degree (M.A., M.S., M.Eng., MBA, etc.)   \n3  Some college/university study without earning ...   \n4  Secondary school (e.g. American high school, G...   \n\n                                           LearnCode  \\\n0                             Books / Physical media   \n1  Books / Physical media;Colleague;On the job tr...   \n2  Books / Physical media;Colleague;On the job tr...   \n3  Other online resources (e.g., videos, blogs, f...   \n4  Other online resources (e.g., videos, blogs, f...   \n\n                                     LearnCodeOnline  ... JobSatPoints_6  \\\n0                                                NaN  ...            NaN   \n1  Technical documentation;Blogs;Books;Written Tu...  ...            0.0   \n2  Technical documentation;Blogs;Books;Written Tu...  ...            NaN   \n3  Stack Overflow;How-to videos;Interactive tutorial  ...            NaN   \n4  Technical documentation;Blogs;Written Tutorial...  ...            NaN   \n\n  JobSatPoints_7 JobSatPoints_8 JobSatPoints_9 JobSatPoints_10  \\\n0            NaN            NaN            NaN             NaN   \n1            0.0            0.0            0.0             0.0   \n2            NaN            NaN            NaN             NaN   \n3            NaN            NaN            NaN             NaN   \n4            NaN            NaN            NaN             NaN   \n\n  JobSatPoints_11           SurveyLength SurveyEase ConvertedCompYearly JobSat  \n0             NaN                    NaN        NaN                 NaN    NaN  \n1             0.0                    NaN        NaN                 NaN    NaN  \n2             NaN  Appropriate in length       Easy                 NaN    NaN  \n3             NaN               Too long       Easy                 NaN    NaN  \n4             NaN              Too short       Easy                 NaN    NaN  \n\n[5 rows x 114 columns]",
            "text/html": "<div>\n<style scoped>\n    .dataframe tbody tr th:only-of-type {\n        vertical-align: middle;\n    }\n\n    .dataframe tbody tr th {\n        vertical-align: top;\n    }\n\n    .dataframe thead th {\n        text-align: right;\n    }\n</style>\n<table border=\"1\" class=\"dataframe\">\n  <thead>\n    <tr style=\"text-align: right;\">\n      <th></th>\n      <th>ResponseId</th>\n      <th>MainBranch</th>\n      <th>Age</th>\n      <th>Employment</th>\n      <th>RemoteWork</th>\n      <th>Check</th>\n      <th>CodingActivities</th>\n      <th>EdLevel</th>\n      <th>LearnCode</th>\n      <th>LearnCodeOnline</th>\n      <th>...</th>\n      <th>JobSatPoints_6</th>\n      <th>JobSatPoints_7</th>\n      <th>JobSatPoints_8</th>\n      <th>JobSatPoints_9</th>\n      <th>JobSatPoints_10</th>\n      <th>JobSatPoints_11</th>\n      <th>SurveyLength</th>\n      <th>SurveyEase</th>\n      <th>ConvertedCompYearly</th>\n      <th>JobSat</th>\n    </tr>\n  </thead>\n  <tbody>\n    <tr>\n      <th>0</th>\n      <td>1</td>\n      <td>I am a developer by profession</td>\n      <td>Under 18 years old</td>\n      <td>Employed, full-time</td>\n      <td>Remote</td>\n      <td>Apples</td>\n      <td>Hobby</td>\n      <td>Primary/elementary school</td>\n      <td>Books / Physical media</td>\n      <td>NaN</td>\n      <td>...</td>\n      <td>NaN</td>\n      <td>NaN</td>\n      <td>NaN</td>\n      <td>NaN</td>\n      <td>NaN</td>\n      <td>NaN</td>\n      <td>NaN</td>\n      <td>NaN</td>\n      <td>NaN</td>\n      <td>NaN</td>\n    </tr>\n    <tr>\n      <th>1</th>\n      <td>2</td>\n      <td>I am a developer by profession</td>\n      <td>35-44 years old</td>\n      <td>Employed, full-time</td>\n      <td>Remote</td>\n      <td>Apples</td>\n      <td>Hobby;Contribute to open-source projects;Other...</td>\n      <td>Bachelor’s degree (B.A., B.S., B.Eng., etc.)</td>\n      <td>Books / Physical media;Colleague;On the job tr...</td>\n      <td>Technical documentation;Blogs;Books;Written Tu...</td>\n      <td>...</td>\n      <td>0.0</td>\n      <td>0.0</td>\n      <td>0.0</td>\n      <td>0.0</td>\n      <td>0.0</td>\n      <td>0.0</td>\n      <td>NaN</td>\n      <td>NaN</td>\n      <td>NaN</td>\n      <td>NaN</td>\n    </tr>\n    <tr>\n      <th>2</th>\n      <td>3</td>\n      <td>I am a developer by profession</td>\n      <td>45-54 years old</td>\n      <td>Employed, full-time</td>\n      <td>Remote</td>\n      <td>Apples</td>\n      <td>Hobby;Contribute to open-source projects;Other...</td>\n      <td>Master’s degree (M.A., M.S., M.Eng., MBA, etc.)</td>\n      <td>Books / Physical media;Colleague;On the job tr...</td>\n      <td>Technical documentation;Blogs;Books;Written Tu...</td>\n      <td>...</td>\n      <td>NaN</td>\n      <td>NaN</td>\n      <td>NaN</td>\n      <td>NaN</td>\n      <td>NaN</td>\n      <td>NaN</td>\n      <td>Appropriate in length</td>\n      <td>Easy</td>\n      <td>NaN</td>\n      <td>NaN</td>\n    </tr>\n    <tr>\n      <th>3</th>\n      <td>4</td>\n      <td>I am learning to code</td>\n      <td>18-24 years old</td>\n      <td>Student, full-time</td>\n      <td>NaN</td>\n      <td>Apples</td>\n      <td>NaN</td>\n      <td>Some college/university study without earning ...</td>\n      <td>Other online resources (e.g., videos, blogs, f...</td>\n      <td>Stack Overflow;How-to videos;Interactive tutorial</td>\n      <td>...</td>\n      <td>NaN</td>\n      <td>NaN</td>\n      <td>NaN</td>\n      <td>NaN</td>\n      <td>NaN</td>\n      <td>NaN</td>\n      <td>Too long</td>\n      <td>Easy</td>\n      <td>NaN</td>\n      <td>NaN</td>\n    </tr>\n    <tr>\n      <th>4</th>\n      <td>5</td>\n      <td>I am a developer by profession</td>\n      <td>18-24 years old</td>\n      <td>Student, full-time</td>\n      <td>NaN</td>\n      <td>Apples</td>\n      <td>NaN</td>\n      <td>Secondary school (e.g. American high school, G...</td>\n      <td>Other online resources (e.g., videos, blogs, f...</td>\n      <td>Technical documentation;Blogs;Written Tutorial...</td>\n      <td>...</td>\n      <td>NaN</td>\n      <td>NaN</td>\n      <td>NaN</td>\n      <td>NaN</td>\n      <td>NaN</td>\n      <td>NaN</td>\n      <td>Too short</td>\n      <td>Easy</td>\n      <td>NaN</td>\n      <td>NaN</td>\n    </tr>\n  </tbody>\n</table>\n<p>5 rows × 114 columns</p>\n</div>"
          },
          "metadata": {}
        }
      ],
      "execution_count": 8
    },
    {
      "cell_type": "markdown",
      "source": "## Find out the number of rows and columns\n",
      "metadata": {}
    },
    {
      "cell_type": "markdown",
      "source": "Start by exploring the numbers of rows and columns of data in the dataset.\n",
      "metadata": {}
    },
    {
      "cell_type": "markdown",
      "source": "Print the number of rows in the dataset.\n",
      "metadata": {}
    },
    {
      "cell_type": "code",
      "source": "## Write your code here\ndf.count()",
      "metadata": {
        "trusted": true
      },
      "outputs": [
        {
          "execution_count": 9,
          "output_type": "execute_result",
          "data": {
            "text/plain": "ResponseId             65437\nMainBranch             65437\nAge                    65437\nEmployment             65437\nRemoteWork             54806\n                       ...  \nJobSatPoints_11        29445\nSurveyLength           56182\nSurveyEase             56238\nConvertedCompYearly    23435\nJobSat                 29126\nLength: 114, dtype: int64"
          },
          "metadata": {}
        }
      ],
      "execution_count": 9
    },
    {
      "cell_type": "markdown",
      "source": "Print the number of columns in the dataset.\n",
      "metadata": {}
    },
    {
      "cell_type": "code",
      "source": "## Write your code here\ndf.describe(include ='all')",
      "metadata": {
        "trusted": true
      },
      "outputs": [
        {
          "execution_count": 13,
          "output_type": "execute_result",
          "data": {
            "text/plain": "          ResponseId                      MainBranch              Age  \\\ncount   65437.000000                           65437            65437   \nunique           NaN                               5                8   \ntop              NaN  I am a developer by profession  25-34 years old   \nfreq             NaN                           50207            23911   \nmean    32719.000000                             NaN              NaN   \nstd     18890.179119                             NaN              NaN   \nmin         1.000000                             NaN              NaN   \n25%     16360.000000                             NaN              NaN   \n50%     32719.000000                             NaN              NaN   \n75%     49078.000000                             NaN              NaN   \nmax     65437.000000                             NaN              NaN   \n\n                 Employment                            RemoteWork   Check  \\\ncount                 65437                                 54806   65437   \nunique                  110                                     3       1   \ntop     Employed, full-time  Hybrid (some remote, some in-person)  Apples   \nfreq                  39041                                 23015   65437   \nmean                    NaN                                   NaN     NaN   \nstd                     NaN                                   NaN     NaN   \nmin                     NaN                                   NaN     NaN   \n25%                     NaN                                   NaN     NaN   \n50%                     NaN                                   NaN     NaN   \n75%                     NaN                                   NaN     NaN   \nmax                     NaN                                   NaN     NaN   \n\n       CodingActivities                                       EdLevel  \\\ncount             54466                                         60784   \nunique              118                                             8   \ntop               Hobby  Bachelor’s degree (B.A., B.S., B.Eng., etc.)   \nfreq               9993                                         24942   \nmean                NaN                                           NaN   \nstd                 NaN                                           NaN   \nmin                 NaN                                           NaN   \n25%                 NaN                                           NaN   \n50%                 NaN                                           NaN   \n75%                 NaN                                           NaN   \nmax                 NaN                                           NaN   \n\n                                                LearnCode  \\\ncount                                               60488   \nunique                                                418   \ntop     Other online resources (e.g., videos, blogs, f...   \nfreq                                                 3674   \nmean                                                  NaN   \nstd                                                   NaN   \nmin                                                   NaN   \n25%                                                   NaN   \n50%                                                   NaN   \n75%                                                   NaN   \nmax                                                   NaN   \n\n                                          LearnCodeOnline  ... JobSatPoints_6  \\\ncount                                               49237  ...   29450.000000   \nunique                                              10853  ...            NaN   \ntop     Technical documentation;Blogs;Written Tutorial...  ...            NaN   \nfreq                                                  603  ...            NaN   \nmean                                                  NaN  ...      24.343232   \nstd                                                   NaN  ...      27.089360   \nmin                                                   NaN  ...       0.000000   \n25%                                                   NaN  ...       0.000000   \n50%                                                   NaN  ...      20.000000   \n75%                                                   NaN  ...      30.000000   \nmax                                                   NaN  ...     100.000000   \n\n       JobSatPoints_7 JobSatPoints_8 JobSatPoints_9 JobSatPoints_10  \\\ncount     29448.00000   29456.000000   29456.000000    29450.000000   \nunique            NaN            NaN            NaN             NaN   \ntop               NaN            NaN            NaN             NaN   \nfreq              NaN            NaN            NaN             NaN   \nmean         22.96522      20.278165      16.169432       10.955713   \nstd          27.01774      26.108110      24.845032       22.906263   \nmin           0.00000       0.000000       0.000000        0.000000   \n25%           0.00000       0.000000       0.000000        0.000000   \n50%          15.00000      10.000000       5.000000        0.000000   \n75%          30.00000      25.000000      20.000000       10.000000   \nmax         100.00000     100.000000     100.000000      100.000000   \n\n       JobSatPoints_11           SurveyLength SurveyEase ConvertedCompYearly  \\\ncount     29445.000000                  56182      56238        2.343500e+04   \nunique             NaN                      3          3                 NaN   \ntop                NaN  Appropriate in length       Easy                 NaN   \nfreq               NaN                  38767      30071                 NaN   \nmean          9.953948                    NaN        NaN        8.615529e+04   \nstd          21.775652                    NaN        NaN        1.867570e+05   \nmin           0.000000                    NaN        NaN        1.000000e+00   \n25%           0.000000                    NaN        NaN        3.271200e+04   \n50%           0.000000                    NaN        NaN        6.500000e+04   \n75%          10.000000                    NaN        NaN        1.079715e+05   \nmax         100.000000                    NaN        NaN        1.625660e+07   \n\n              JobSat  \ncount   29126.000000  \nunique           NaN  \ntop              NaN  \nfreq             NaN  \nmean        6.935041  \nstd         2.088259  \nmin         0.000000  \n25%         6.000000  \n50%         7.000000  \n75%         8.000000  \nmax        10.000000  \n\n[11 rows x 114 columns]",
            "text/html": "<div>\n<style scoped>\n    .dataframe tbody tr th:only-of-type {\n        vertical-align: middle;\n    }\n\n    .dataframe tbody tr th {\n        vertical-align: top;\n    }\n\n    .dataframe thead th {\n        text-align: right;\n    }\n</style>\n<table border=\"1\" class=\"dataframe\">\n  <thead>\n    <tr style=\"text-align: right;\">\n      <th></th>\n      <th>ResponseId</th>\n      <th>MainBranch</th>\n      <th>Age</th>\n      <th>Employment</th>\n      <th>RemoteWork</th>\n      <th>Check</th>\n      <th>CodingActivities</th>\n      <th>EdLevel</th>\n      <th>LearnCode</th>\n      <th>LearnCodeOnline</th>\n      <th>...</th>\n      <th>JobSatPoints_6</th>\n      <th>JobSatPoints_7</th>\n      <th>JobSatPoints_8</th>\n      <th>JobSatPoints_9</th>\n      <th>JobSatPoints_10</th>\n      <th>JobSatPoints_11</th>\n      <th>SurveyLength</th>\n      <th>SurveyEase</th>\n      <th>ConvertedCompYearly</th>\n      <th>JobSat</th>\n    </tr>\n  </thead>\n  <tbody>\n    <tr>\n      <th>count</th>\n      <td>65437.000000</td>\n      <td>65437</td>\n      <td>65437</td>\n      <td>65437</td>\n      <td>54806</td>\n      <td>65437</td>\n      <td>54466</td>\n      <td>60784</td>\n      <td>60488</td>\n      <td>49237</td>\n      <td>...</td>\n      <td>29450.000000</td>\n      <td>29448.00000</td>\n      <td>29456.000000</td>\n      <td>29456.000000</td>\n      <td>29450.000000</td>\n      <td>29445.000000</td>\n      <td>56182</td>\n      <td>56238</td>\n      <td>2.343500e+04</td>\n      <td>29126.000000</td>\n    </tr>\n    <tr>\n      <th>unique</th>\n      <td>NaN</td>\n      <td>5</td>\n      <td>8</td>\n      <td>110</td>\n      <td>3</td>\n      <td>1</td>\n      <td>118</td>\n      <td>8</td>\n      <td>418</td>\n      <td>10853</td>\n      <td>...</td>\n      <td>NaN</td>\n      <td>NaN</td>\n      <td>NaN</td>\n      <td>NaN</td>\n      <td>NaN</td>\n      <td>NaN</td>\n      <td>3</td>\n      <td>3</td>\n      <td>NaN</td>\n      <td>NaN</td>\n    </tr>\n    <tr>\n      <th>top</th>\n      <td>NaN</td>\n      <td>I am a developer by profession</td>\n      <td>25-34 years old</td>\n      <td>Employed, full-time</td>\n      <td>Hybrid (some remote, some in-person)</td>\n      <td>Apples</td>\n      <td>Hobby</td>\n      <td>Bachelor’s degree (B.A., B.S., B.Eng., etc.)</td>\n      <td>Other online resources (e.g., videos, blogs, f...</td>\n      <td>Technical documentation;Blogs;Written Tutorial...</td>\n      <td>...</td>\n      <td>NaN</td>\n      <td>NaN</td>\n      <td>NaN</td>\n      <td>NaN</td>\n      <td>NaN</td>\n      <td>NaN</td>\n      <td>Appropriate in length</td>\n      <td>Easy</td>\n      <td>NaN</td>\n      <td>NaN</td>\n    </tr>\n    <tr>\n      <th>freq</th>\n      <td>NaN</td>\n      <td>50207</td>\n      <td>23911</td>\n      <td>39041</td>\n      <td>23015</td>\n      <td>65437</td>\n      <td>9993</td>\n      <td>24942</td>\n      <td>3674</td>\n      <td>603</td>\n      <td>...</td>\n      <td>NaN</td>\n      <td>NaN</td>\n      <td>NaN</td>\n      <td>NaN</td>\n      <td>NaN</td>\n      <td>NaN</td>\n      <td>38767</td>\n      <td>30071</td>\n      <td>NaN</td>\n      <td>NaN</td>\n    </tr>\n    <tr>\n      <th>mean</th>\n      <td>32719.000000</td>\n      <td>NaN</td>\n      <td>NaN</td>\n      <td>NaN</td>\n      <td>NaN</td>\n      <td>NaN</td>\n      <td>NaN</td>\n      <td>NaN</td>\n      <td>NaN</td>\n      <td>NaN</td>\n      <td>...</td>\n      <td>24.343232</td>\n      <td>22.96522</td>\n      <td>20.278165</td>\n      <td>16.169432</td>\n      <td>10.955713</td>\n      <td>9.953948</td>\n      <td>NaN</td>\n      <td>NaN</td>\n      <td>8.615529e+04</td>\n      <td>6.935041</td>\n    </tr>\n    <tr>\n      <th>std</th>\n      <td>18890.179119</td>\n      <td>NaN</td>\n      <td>NaN</td>\n      <td>NaN</td>\n      <td>NaN</td>\n      <td>NaN</td>\n      <td>NaN</td>\n      <td>NaN</td>\n      <td>NaN</td>\n      <td>NaN</td>\n      <td>...</td>\n      <td>27.089360</td>\n      <td>27.01774</td>\n      <td>26.108110</td>\n      <td>24.845032</td>\n      <td>22.906263</td>\n      <td>21.775652</td>\n      <td>NaN</td>\n      <td>NaN</td>\n      <td>1.867570e+05</td>\n      <td>2.088259</td>\n    </tr>\n    <tr>\n      <th>min</th>\n      <td>1.000000</td>\n      <td>NaN</td>\n      <td>NaN</td>\n      <td>NaN</td>\n      <td>NaN</td>\n      <td>NaN</td>\n      <td>NaN</td>\n      <td>NaN</td>\n      <td>NaN</td>\n      <td>NaN</td>\n      <td>...</td>\n      <td>0.000000</td>\n      <td>0.00000</td>\n      <td>0.000000</td>\n      <td>0.000000</td>\n      <td>0.000000</td>\n      <td>0.000000</td>\n      <td>NaN</td>\n      <td>NaN</td>\n      <td>1.000000e+00</td>\n      <td>0.000000</td>\n    </tr>\n    <tr>\n      <th>25%</th>\n      <td>16360.000000</td>\n      <td>NaN</td>\n      <td>NaN</td>\n      <td>NaN</td>\n      <td>NaN</td>\n      <td>NaN</td>\n      <td>NaN</td>\n      <td>NaN</td>\n      <td>NaN</td>\n      <td>NaN</td>\n      <td>...</td>\n      <td>0.000000</td>\n      <td>0.00000</td>\n      <td>0.000000</td>\n      <td>0.000000</td>\n      <td>0.000000</td>\n      <td>0.000000</td>\n      <td>NaN</td>\n      <td>NaN</td>\n      <td>3.271200e+04</td>\n      <td>6.000000</td>\n    </tr>\n    <tr>\n      <th>50%</th>\n      <td>32719.000000</td>\n      <td>NaN</td>\n      <td>NaN</td>\n      <td>NaN</td>\n      <td>NaN</td>\n      <td>NaN</td>\n      <td>NaN</td>\n      <td>NaN</td>\n      <td>NaN</td>\n      <td>NaN</td>\n      <td>...</td>\n      <td>20.000000</td>\n      <td>15.00000</td>\n      <td>10.000000</td>\n      <td>5.000000</td>\n      <td>0.000000</td>\n      <td>0.000000</td>\n      <td>NaN</td>\n      <td>NaN</td>\n      <td>6.500000e+04</td>\n      <td>7.000000</td>\n    </tr>\n    <tr>\n      <th>75%</th>\n      <td>49078.000000</td>\n      <td>NaN</td>\n      <td>NaN</td>\n      <td>NaN</td>\n      <td>NaN</td>\n      <td>NaN</td>\n      <td>NaN</td>\n      <td>NaN</td>\n      <td>NaN</td>\n      <td>NaN</td>\n      <td>...</td>\n      <td>30.000000</td>\n      <td>30.00000</td>\n      <td>25.000000</td>\n      <td>20.000000</td>\n      <td>10.000000</td>\n      <td>10.000000</td>\n      <td>NaN</td>\n      <td>NaN</td>\n      <td>1.079715e+05</td>\n      <td>8.000000</td>\n    </tr>\n    <tr>\n      <th>max</th>\n      <td>65437.000000</td>\n      <td>NaN</td>\n      <td>NaN</td>\n      <td>NaN</td>\n      <td>NaN</td>\n      <td>NaN</td>\n      <td>NaN</td>\n      <td>NaN</td>\n      <td>NaN</td>\n      <td>NaN</td>\n      <td>...</td>\n      <td>100.000000</td>\n      <td>100.00000</td>\n      <td>100.000000</td>\n      <td>100.000000</td>\n      <td>100.000000</td>\n      <td>100.000000</td>\n      <td>NaN</td>\n      <td>NaN</td>\n      <td>1.625660e+07</td>\n      <td>10.000000</td>\n    </tr>\n  </tbody>\n</table>\n<p>11 rows × 114 columns</p>\n</div>"
          },
          "metadata": {}
        }
      ],
      "execution_count": 13
    },
    {
      "cell_type": "markdown",
      "source": "## Identify the data types of each column\n",
      "metadata": {}
    },
    {
      "cell_type": "markdown",
      "source": "Explore the dataset and identify the data types of each column.\n",
      "metadata": {}
    },
    {
      "cell_type": "markdown",
      "source": "Print the datatype of all columns.\n",
      "metadata": {}
    },
    {
      "cell_type": "code",
      "source": "## Write your code here\ndf.dtypes",
      "metadata": {
        "trusted": true
      },
      "outputs": [
        {
          "execution_count": 17,
          "output_type": "execute_result",
          "data": {
            "text/plain": "ResponseId               int64\nMainBranch              object\nAge                     object\nEmployment              object\nRemoteWork              object\n                        ...   \nJobSatPoints_11        float64\nSurveyLength            object\nSurveyEase              object\nConvertedCompYearly    float64\nJobSat                 float64\nLength: 114, dtype: object"
          },
          "metadata": {}
        }
      ],
      "execution_count": 17
    },
    {
      "cell_type": "markdown",
      "source": "Print the mean age of the survey participants.\n",
      "metadata": {}
    },
    {
      "cell_type": "code",
      "source": "df['Age']",
      "metadata": {
        "trusted": true
      },
      "outputs": [
        {
          "execution_count": 25,
          "output_type": "execute_result",
          "data": {
            "text/plain": "0        Under 18 years old\n1           35-44 years old\n2           45-54 years old\n3           18-24 years old\n4           18-24 years old\n                ...        \n65432       18-24 years old\n65433       25-34 years old\n65434       25-34 years old\n65435       18-24 years old\n65436       18-24 years old\nName: Age, Length: 65437, dtype: object"
          },
          "metadata": {}
        }
      ],
      "execution_count": 25
    },
    {
      "cell_type": "code",
      "source": "## Write your code here\nunique_values = df['Age'].unique()\n# df['Age'] = df['Age'].astype(float)\n# mean_age = df['Age'].mean()\nprint(unique_values)\n",
      "metadata": {
        "trusted": true
      },
      "outputs": [
        {
          "name": "stdout",
          "text": "['Under 18 years old' '35-44 years old' '45-54 years old'\n '18-24 years old' '25-34 years old' '55-64 years old' 'Prefer not to say'\n '65 years or older']\n",
          "output_type": "stream"
        }
      ],
      "execution_count": 24
    },
    {
      "cell_type": "markdown",
      "source": "The dataset is the result of a world wide survey. Print how many unique countries are there in the Country column.\n",
      "metadata": {}
    },
    {
      "cell_type": "code",
      "source": "df.describe(include = 'all')",
      "metadata": {
        "trusted": true
      },
      "outputs": [
        {
          "execution_count": 29,
          "output_type": "execute_result",
          "data": {
            "text/plain": "          ResponseId                      MainBranch              Age  \\\ncount   65437.000000                           65437            65437   \nunique           NaN                               5                8   \ntop              NaN  I am a developer by profession  25-34 years old   \nfreq             NaN                           50207            23911   \nmean    32719.000000                             NaN              NaN   \nstd     18890.179119                             NaN              NaN   \nmin         1.000000                             NaN              NaN   \n25%     16360.000000                             NaN              NaN   \n50%     32719.000000                             NaN              NaN   \n75%     49078.000000                             NaN              NaN   \nmax     65437.000000                             NaN              NaN   \n\n                 Employment                            RemoteWork   Check  \\\ncount                 65437                                 54806   65437   \nunique                  110                                     3       1   \ntop     Employed, full-time  Hybrid (some remote, some in-person)  Apples   \nfreq                  39041                                 23015   65437   \nmean                    NaN                                   NaN     NaN   \nstd                     NaN                                   NaN     NaN   \nmin                     NaN                                   NaN     NaN   \n25%                     NaN                                   NaN     NaN   \n50%                     NaN                                   NaN     NaN   \n75%                     NaN                                   NaN     NaN   \nmax                     NaN                                   NaN     NaN   \n\n       CodingActivities                                       EdLevel  \\\ncount             54466                                         60784   \nunique              118                                             8   \ntop               Hobby  Bachelor’s degree (B.A., B.S., B.Eng., etc.)   \nfreq               9993                                         24942   \nmean                NaN                                           NaN   \nstd                 NaN                                           NaN   \nmin                 NaN                                           NaN   \n25%                 NaN                                           NaN   \n50%                 NaN                                           NaN   \n75%                 NaN                                           NaN   \nmax                 NaN                                           NaN   \n\n                                                LearnCode  \\\ncount                                               60488   \nunique                                                418   \ntop     Other online resources (e.g., videos, blogs, f...   \nfreq                                                 3674   \nmean                                                  NaN   \nstd                                                   NaN   \nmin                                                   NaN   \n25%                                                   NaN   \n50%                                                   NaN   \n75%                                                   NaN   \nmax                                                   NaN   \n\n                                          LearnCodeOnline  ... JobSatPoints_6  \\\ncount                                               49237  ...   29450.000000   \nunique                                              10853  ...            NaN   \ntop     Technical documentation;Blogs;Written Tutorial...  ...            NaN   \nfreq                                                  603  ...            NaN   \nmean                                                  NaN  ...      24.343232   \nstd                                                   NaN  ...      27.089360   \nmin                                                   NaN  ...       0.000000   \n25%                                                   NaN  ...       0.000000   \n50%                                                   NaN  ...      20.000000   \n75%                                                   NaN  ...      30.000000   \nmax                                                   NaN  ...     100.000000   \n\n       JobSatPoints_7 JobSatPoints_8 JobSatPoints_9 JobSatPoints_10  \\\ncount     29448.00000   29456.000000   29456.000000    29450.000000   \nunique            NaN            NaN            NaN             NaN   \ntop               NaN            NaN            NaN             NaN   \nfreq              NaN            NaN            NaN             NaN   \nmean         22.96522      20.278165      16.169432       10.955713   \nstd          27.01774      26.108110      24.845032       22.906263   \nmin           0.00000       0.000000       0.000000        0.000000   \n25%           0.00000       0.000000       0.000000        0.000000   \n50%          15.00000      10.000000       5.000000        0.000000   \n75%          30.00000      25.000000      20.000000       10.000000   \nmax         100.00000     100.000000     100.000000      100.000000   \n\n       JobSatPoints_11           SurveyLength SurveyEase ConvertedCompYearly  \\\ncount     29445.000000                  56182      56238        2.343500e+04   \nunique             NaN                      3          3                 NaN   \ntop                NaN  Appropriate in length       Easy                 NaN   \nfreq               NaN                  38767      30071                 NaN   \nmean          9.953948                    NaN        NaN        8.615529e+04   \nstd          21.775652                    NaN        NaN        1.867570e+05   \nmin           0.000000                    NaN        NaN        1.000000e+00   \n25%           0.000000                    NaN        NaN        3.271200e+04   \n50%           0.000000                    NaN        NaN        6.500000e+04   \n75%          10.000000                    NaN        NaN        1.079715e+05   \nmax         100.000000                    NaN        NaN        1.625660e+07   \n\n              JobSat  \ncount   29126.000000  \nunique           NaN  \ntop              NaN  \nfreq             NaN  \nmean        6.935041  \nstd         2.088259  \nmin         0.000000  \n25%         6.000000  \n50%         7.000000  \n75%         8.000000  \nmax        10.000000  \n\n[11 rows x 114 columns]",
            "text/html": "<div>\n<style scoped>\n    .dataframe tbody tr th:only-of-type {\n        vertical-align: middle;\n    }\n\n    .dataframe tbody tr th {\n        vertical-align: top;\n    }\n\n    .dataframe thead th {\n        text-align: right;\n    }\n</style>\n<table border=\"1\" class=\"dataframe\">\n  <thead>\n    <tr style=\"text-align: right;\">\n      <th></th>\n      <th>ResponseId</th>\n      <th>MainBranch</th>\n      <th>Age</th>\n      <th>Employment</th>\n      <th>RemoteWork</th>\n      <th>Check</th>\n      <th>CodingActivities</th>\n      <th>EdLevel</th>\n      <th>LearnCode</th>\n      <th>LearnCodeOnline</th>\n      <th>...</th>\n      <th>JobSatPoints_6</th>\n      <th>JobSatPoints_7</th>\n      <th>JobSatPoints_8</th>\n      <th>JobSatPoints_9</th>\n      <th>JobSatPoints_10</th>\n      <th>JobSatPoints_11</th>\n      <th>SurveyLength</th>\n      <th>SurveyEase</th>\n      <th>ConvertedCompYearly</th>\n      <th>JobSat</th>\n    </tr>\n  </thead>\n  <tbody>\n    <tr>\n      <th>count</th>\n      <td>65437.000000</td>\n      <td>65437</td>\n      <td>65437</td>\n      <td>65437</td>\n      <td>54806</td>\n      <td>65437</td>\n      <td>54466</td>\n      <td>60784</td>\n      <td>60488</td>\n      <td>49237</td>\n      <td>...</td>\n      <td>29450.000000</td>\n      <td>29448.00000</td>\n      <td>29456.000000</td>\n      <td>29456.000000</td>\n      <td>29450.000000</td>\n      <td>29445.000000</td>\n      <td>56182</td>\n      <td>56238</td>\n      <td>2.343500e+04</td>\n      <td>29126.000000</td>\n    </tr>\n    <tr>\n      <th>unique</th>\n      <td>NaN</td>\n      <td>5</td>\n      <td>8</td>\n      <td>110</td>\n      <td>3</td>\n      <td>1</td>\n      <td>118</td>\n      <td>8</td>\n      <td>418</td>\n      <td>10853</td>\n      <td>...</td>\n      <td>NaN</td>\n      <td>NaN</td>\n      <td>NaN</td>\n      <td>NaN</td>\n      <td>NaN</td>\n      <td>NaN</td>\n      <td>3</td>\n      <td>3</td>\n      <td>NaN</td>\n      <td>NaN</td>\n    </tr>\n    <tr>\n      <th>top</th>\n      <td>NaN</td>\n      <td>I am a developer by profession</td>\n      <td>25-34 years old</td>\n      <td>Employed, full-time</td>\n      <td>Hybrid (some remote, some in-person)</td>\n      <td>Apples</td>\n      <td>Hobby</td>\n      <td>Bachelor’s degree (B.A., B.S., B.Eng., etc.)</td>\n      <td>Other online resources (e.g., videos, blogs, f...</td>\n      <td>Technical documentation;Blogs;Written Tutorial...</td>\n      <td>...</td>\n      <td>NaN</td>\n      <td>NaN</td>\n      <td>NaN</td>\n      <td>NaN</td>\n      <td>NaN</td>\n      <td>NaN</td>\n      <td>Appropriate in length</td>\n      <td>Easy</td>\n      <td>NaN</td>\n      <td>NaN</td>\n    </tr>\n    <tr>\n      <th>freq</th>\n      <td>NaN</td>\n      <td>50207</td>\n      <td>23911</td>\n      <td>39041</td>\n      <td>23015</td>\n      <td>65437</td>\n      <td>9993</td>\n      <td>24942</td>\n      <td>3674</td>\n      <td>603</td>\n      <td>...</td>\n      <td>NaN</td>\n      <td>NaN</td>\n      <td>NaN</td>\n      <td>NaN</td>\n      <td>NaN</td>\n      <td>NaN</td>\n      <td>38767</td>\n      <td>30071</td>\n      <td>NaN</td>\n      <td>NaN</td>\n    </tr>\n    <tr>\n      <th>mean</th>\n      <td>32719.000000</td>\n      <td>NaN</td>\n      <td>NaN</td>\n      <td>NaN</td>\n      <td>NaN</td>\n      <td>NaN</td>\n      <td>NaN</td>\n      <td>NaN</td>\n      <td>NaN</td>\n      <td>NaN</td>\n      <td>...</td>\n      <td>24.343232</td>\n      <td>22.96522</td>\n      <td>20.278165</td>\n      <td>16.169432</td>\n      <td>10.955713</td>\n      <td>9.953948</td>\n      <td>NaN</td>\n      <td>NaN</td>\n      <td>8.615529e+04</td>\n      <td>6.935041</td>\n    </tr>\n    <tr>\n      <th>std</th>\n      <td>18890.179119</td>\n      <td>NaN</td>\n      <td>NaN</td>\n      <td>NaN</td>\n      <td>NaN</td>\n      <td>NaN</td>\n      <td>NaN</td>\n      <td>NaN</td>\n      <td>NaN</td>\n      <td>NaN</td>\n      <td>...</td>\n      <td>27.089360</td>\n      <td>27.01774</td>\n      <td>26.108110</td>\n      <td>24.845032</td>\n      <td>22.906263</td>\n      <td>21.775652</td>\n      <td>NaN</td>\n      <td>NaN</td>\n      <td>1.867570e+05</td>\n      <td>2.088259</td>\n    </tr>\n    <tr>\n      <th>min</th>\n      <td>1.000000</td>\n      <td>NaN</td>\n      <td>NaN</td>\n      <td>NaN</td>\n      <td>NaN</td>\n      <td>NaN</td>\n      <td>NaN</td>\n      <td>NaN</td>\n      <td>NaN</td>\n      <td>NaN</td>\n      <td>...</td>\n      <td>0.000000</td>\n      <td>0.00000</td>\n      <td>0.000000</td>\n      <td>0.000000</td>\n      <td>0.000000</td>\n      <td>0.000000</td>\n      <td>NaN</td>\n      <td>NaN</td>\n      <td>1.000000e+00</td>\n      <td>0.000000</td>\n    </tr>\n    <tr>\n      <th>25%</th>\n      <td>16360.000000</td>\n      <td>NaN</td>\n      <td>NaN</td>\n      <td>NaN</td>\n      <td>NaN</td>\n      <td>NaN</td>\n      <td>NaN</td>\n      <td>NaN</td>\n      <td>NaN</td>\n      <td>NaN</td>\n      <td>...</td>\n      <td>0.000000</td>\n      <td>0.00000</td>\n      <td>0.000000</td>\n      <td>0.000000</td>\n      <td>0.000000</td>\n      <td>0.000000</td>\n      <td>NaN</td>\n      <td>NaN</td>\n      <td>3.271200e+04</td>\n      <td>6.000000</td>\n    </tr>\n    <tr>\n      <th>50%</th>\n      <td>32719.000000</td>\n      <td>NaN</td>\n      <td>NaN</td>\n      <td>NaN</td>\n      <td>NaN</td>\n      <td>NaN</td>\n      <td>NaN</td>\n      <td>NaN</td>\n      <td>NaN</td>\n      <td>NaN</td>\n      <td>...</td>\n      <td>20.000000</td>\n      <td>15.00000</td>\n      <td>10.000000</td>\n      <td>5.000000</td>\n      <td>0.000000</td>\n      <td>0.000000</td>\n      <td>NaN</td>\n      <td>NaN</td>\n      <td>6.500000e+04</td>\n      <td>7.000000</td>\n    </tr>\n    <tr>\n      <th>75%</th>\n      <td>49078.000000</td>\n      <td>NaN</td>\n      <td>NaN</td>\n      <td>NaN</td>\n      <td>NaN</td>\n      <td>NaN</td>\n      <td>NaN</td>\n      <td>NaN</td>\n      <td>NaN</td>\n      <td>NaN</td>\n      <td>...</td>\n      <td>30.000000</td>\n      <td>30.00000</td>\n      <td>25.000000</td>\n      <td>20.000000</td>\n      <td>10.000000</td>\n      <td>10.000000</td>\n      <td>NaN</td>\n      <td>NaN</td>\n      <td>1.079715e+05</td>\n      <td>8.000000</td>\n    </tr>\n    <tr>\n      <th>max</th>\n      <td>65437.000000</td>\n      <td>NaN</td>\n      <td>NaN</td>\n      <td>NaN</td>\n      <td>NaN</td>\n      <td>NaN</td>\n      <td>NaN</td>\n      <td>NaN</td>\n      <td>NaN</td>\n      <td>NaN</td>\n      <td>...</td>\n      <td>100.000000</td>\n      <td>100.00000</td>\n      <td>100.000000</td>\n      <td>100.000000</td>\n      <td>100.000000</td>\n      <td>100.000000</td>\n      <td>NaN</td>\n      <td>NaN</td>\n      <td>1.625660e+07</td>\n      <td>10.000000</td>\n    </tr>\n  </tbody>\n</table>\n<p>11 rows × 114 columns</p>\n</div>"
          },
          "metadata": {}
        }
      ],
      "execution_count": 29
    },
    {
      "cell_type": "code",
      "source": "## Write your code here\nunique_countries = df['Country'].nunique()\nprint('The number of countries represented in the survey is: ', unique_countries)",
      "metadata": {
        "trusted": true
      },
      "outputs": [
        {
          "name": "stdout",
          "text": "The number of countries represented in the survey is:  185\n",
          "output_type": "stream"
        }
      ],
      "execution_count": 38
    },
    {
      "cell_type": "markdown",
      "source": "Copyright ©  IBM Corporation. All rights reserved.\n",
      "metadata": {}
    }
  ]
}